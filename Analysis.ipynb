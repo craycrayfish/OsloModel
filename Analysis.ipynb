{
 "cells": [
  {
   "cell_type": "code",
   "execution_count": 1,
   "metadata": {},
   "outputs": [],
   "source": [
    "import os\n",
    "import numpy as np\n",
    "import numpy.random\n",
    "import pandas as pd"
   ]
  },
  {
   "cell_type": "code",
   "execution_count": 2,
   "metadata": {},
   "outputs": [],
   "source": [
    "# Probability for BTW and Oslo Models\n",
    "BTW_probability = 1\n",
    "Oslo_probability = 0.5\n",
    "# Lengths to be investigated\n",
    "L = [4, 8, 16, 32, 64, 128, 256]"
   ]
  },
  {
   "cell_type": "code",
   "execution_count": 3,
   "metadata": {},
   "outputs": [],
   "source": [
    "class Pile:\n",
    "    def __init__(self, length, probability=0.5):\n",
    "        self.probability = probability\n",
    "        self.length = length\n",
    "        self.lattice = np.zeros(length)\n",
    "        self.gradient = np.zeros(length, dtype=np.int)\n",
    "        self.threshold = np.round(np.random.random(length)\\\n",
    "                                  + 1.5\\\n",
    "                                  - self.probability).astype(np.int)\n",
    "        self.grains_dropped = 0\n",
    "        self.grains_left = 0\n",
    "        self.height = 0\n",
    "        self.avalanche_size = 0\n",
    "        self.cross_over_state = False\n",
    "    \n",
    "    def get_grains_dropped(self):\n",
    "        return self.grains_dropped\n",
    "    \n",
    "    def get_grains_left(self):\n",
    "        return self.grains_left\n",
    "    \n",
    "    def get_size(self):\n",
    "        return self.grains_dropped - self.grains_left\n",
    "    \n",
    "    def get_height(self):\n",
    "        return self.height\n",
    "    \n",
    "    def get_avalanche_size(self):\n",
    "        return self.avalanche_size\n",
    "    \n",
    "    def get_gradient(self):\n",
    "        return self.gradient\n",
    "    \n",
    "    def get_threshold(self):\n",
    "        return self.threshold\n",
    "    \n",
    "    def drive(self, site=0):\n",
    "        '''Adds 1 grain'''\n",
    "        self.avalanche_size = 0\n",
    "        self.gradient[site] += 1\n",
    "        self.height += 1\n",
    "        self.grains_dropped += 1\n",
    "        \n",
    "    def relax(self, site):\n",
    "        '''Relaxes site gradients according to Oslo model rules'''\n",
    "        if site == 0:\n",
    "            self.height -= 1\n",
    "            self.gradient[site] -= 2\n",
    "            self.gradient[site + 1] += 1\n",
    "        elif site == self.length - 1:\n",
    "            self.gradient[site] -= 1\n",
    "            self.gradient[site-1] += 1\n",
    "            self.cross_over_state = True\n",
    "            self.grains_left += 1\n",
    "        else:\n",
    "            self.gradient[site] -= 2\n",
    "            self.gradient[site-1] += 1\n",
    "            self.gradient[site+1] += 1\n",
    "        self.update_threshold(site)    \n",
    "    \n",
    "    def update_threshold(self, site):\n",
    "        '''Updates threshold to 1 with probability p and 2 otherwise'''\n",
    "        self.threshold[site] = round(1.5\\\n",
    "                                       - self.probability\\\n",
    "                                       + np.random.random())\n",
    "    \n",
    "    def find_unstable_sites(self):\n",
    "        return np.where(np.greater(self.gradient, self.threshold))[0]\n",
    "    \n",
    "    def drop_grain(self, site=0):\n",
    "        '''Starts 1 drive process and relaxes until stable'''\n",
    "        self.drive(site)\n",
    "        while True:\n",
    "            unstable_sites = self.find_unstable_sites()\n",
    "            if unstable_sites.size < 1:\n",
    "                break\n",
    "            else:\n",
    "                for i in unstable_sites:\n",
    "                    self.avalanche_size += 1\n",
    "                    self.relax(i)\n"
   ]
  },
  {
   "cell_type": "markdown",
   "metadata": {},
   "source": [
    "## Task 1: Testing the Program"
   ]
  },
  {
   "cell_type": "markdown",
   "metadata": {},
   "source": [
    "### Test: $p=1$, BTW Model"
   ]
  },
  {
   "cell_type": "markdown",
   "metadata": {},
   "source": [
    "Let $p=1$, and check the following:\n",
    "- All threshold values are 1\n",
    "- All gradients are 1 in the steady state."
   ]
  },
  {
   "cell_type": "code",
   "execution_count": 4,
   "metadata": {},
   "outputs": [
    {
     "name": "stdout",
     "output_type": "stream",
     "text": [
      "Threshold: [1 1 1 1 1 1 1 1]\n"
     ]
    }
   ],
   "source": [
    "BTW_Model = Pile(8, BTW_probability)\n",
    "print('Threshold: {}'.format(BTW_Model.get_threshold()))"
   ]
  },
  {
   "cell_type": "code",
   "execution_count": 5,
   "metadata": {},
   "outputs": [
    {
     "name": "stdout",
     "output_type": "stream",
     "text": [
      "\n",
      "    Thresholds: [1 1 1 1 1 1 1 1]\n",
      "    Gradients: [1 1 1 1 1 1 1 1]\n",
      "    Height: 8\n"
     ]
    }
   ],
   "source": [
    "for i in range(100): #100 enough to reach steady state\n",
    "    BTW_Model.drop_grain()\n",
    "print('''\n",
    "    Thresholds: {}\n",
    "    Gradients: {}\n",
    "    Height: {}'''\n",
    "    .format(BTW_Model.get_threshold(), \n",
    "            BTW_Model.get_gradient(), \n",
    "            BTW_Model.get_height()))"
   ]
  },
  {
   "cell_type": "markdown",
   "metadata": {},
   "source": [
    "Threshold, gradient and height as expected for BTW model."
   ]
  },
  {
   "cell_type": "markdown",
   "metadata": {},
   "source": [
    "### Test: $p=0$"
   ]
  },
  {
   "cell_type": "markdown",
   "metadata": {},
   "source": [
    "Let $p=0$, and check the following:\n",
    "- All threshold values are 0\n",
    "- All gradients are 2 in the steady state.\n",
    "\n",
    "Essentially double the values in BTW Model"
   ]
  },
  {
   "cell_type": "code",
   "execution_count": 6,
   "metadata": {},
   "outputs": [
    {
     "name": "stdout",
     "output_type": "stream",
     "text": [
      "\n",
      "    Thresholds: [2 2 2 2 2 2 2 2]\n",
      "    Gradients: [2 2 2 2 2 2 2 2]\n",
      "    Height: 16\n"
     ]
    }
   ],
   "source": [
    "Zero_Model = Pile(8, 0)\n",
    "for i in range(100):\n",
    "    Zero_Model.drop_grain()\n",
    "print('''\n",
    "    Thresholds: {}\n",
    "    Gradients: {}\n",
    "    Height: {}'''\n",
    "    .format(Zero_Model.get_threshold(), \n",
    "            Zero_Model.get_gradient(), \n",
    "            Zero_Model.get_height()))"
   ]
  },
  {
   "cell_type": "markdown",
   "metadata": {},
   "source": [
    "Threshold, gradient and height as expected."
   ]
  },
  {
   "cell_type": "markdown",
   "metadata": {},
   "source": [
    "### Test: Average Height at Steady State"
   ]
  },
  {
   "cell_type": "code",
   "execution_count": 7,
   "metadata": {},
   "outputs": [
    {
     "name": "stdout",
     "output_type": "stream",
     "text": [
      "\n",
      "    Height for L=16: 26.48004\n",
      "    Height for L=32: 53.54844\n"
     ]
    }
   ],
   "source": [
    "Oslo_Model_16 = Pile(16, Oslo_probability)\n",
    "Oslo_Model_32 = Pile(32, Oslo_probability)\n",
    "heights_16 = []\n",
    "heights_32 = []\n",
    "for i in range(50000):\n",
    "    Oslo_Model_16.drop_grain()\n",
    "    Oslo_Model_32.drop_grain()\n",
    "    heights_16.append(Oslo_Model_16.get_height())\n",
    "    heights_32.append(Oslo_Model_32.get_height())\n",
    "print('''\n",
    "    Height for L=16: {}\n",
    "    Height for L=32: {}'''\n",
    "    .format(np.mean(heights_16), np.mean(heights_32)))"
   ]
  },
  {
   "cell_type": "markdown",
   "metadata": {},
   "source": [
    "In the steady state, the Oslo models results in $\\langle h_{16} \\rangle = 26.5$ and $\\langle h_{32} \\rangle = 53.9$ as expected."
   ]
  },
  {
   "cell_type": "markdown",
   "metadata": {},
   "source": [
    "## Creating Dataset"
   ]
  },
  {
   "cell_type": "markdown",
   "metadata": {},
   "source": [
    "We aim to collect data until the steady state has been reached. We use cross-over time as an estimate for the time required to reach steady state. We only consider cross-over time for the largest pile L=512 since time for all other pile sizes will be smaller."
   ]
  },
  {
   "cell_type": "code",
   "execution_count": 302,
   "metadata": {},
   "outputs": [
    {
     "data": {
      "text/plain": [
       "225481"
      ]
     },
     "execution_count": 302,
     "metadata": {},
     "output_type": "execute_result"
    }
   ],
   "source": [
    "Oslo_Model_512 = Pile(512)\n",
    "while not Oslo_Model_512.cross_over_state:\n",
    "    Oslo_Model_512.drop_grain()\n",
    "Oslo_Model_512.get_grains_dropped()"
   ]
  },
  {
   "cell_type": "markdown",
   "metadata": {},
   "source": [
    "We will simulate 5e5 grains, roughly double the cross-over time measured above. The data will be generated and saved in a npy file."
   ]
  },
  {
   "cell_type": "code",
   "execution_count": 309,
   "metadata": {
    "scrolled": true
   },
   "outputs": [],
   "source": [
    "n = 5e5\n",
    "piles = [Pile(l) for l in L]\n",
    "data = []\n",
    "for i in range(int(n)):\n",
    "    for pile in piles:\n",
    "        pile.drop_grain()\n",
    "    data.append([[pile.get_height(), pile.get_avalanche_size()] for pile in piles])\n",
    "data_np = np.array(data)\n",
    "np.save('data1', data_np)"
   ]
  },
  {
   "cell_type": "markdown",
   "metadata": {},
   "source": [
    "We will read"
   ]
  },
  {
   "cell_type": "code",
   "execution_count": null,
   "metadata": {},
   "outputs": [],
   "source": []
  },
  {
   "cell_type": "markdown",
   "metadata": {},
   "source": [
    "## Task 2: Height of Pile"
   ]
  },
  {
   "cell_type": "markdown",
   "metadata": {},
   "source": [
    "### Task 2a: Pile Height as a Function of Time"
   ]
  }
 ],
 "metadata": {
  "kernelspec": {
   "display_name": "Python 3",
   "language": "python",
   "name": "python3"
  },
  "language_info": {
   "codemirror_mode": {
    "name": "ipython",
    "version": 3
   },
   "file_extension": ".py",
   "mimetype": "text/x-python",
   "name": "python",
   "nbconvert_exporter": "python",
   "pygments_lexer": "ipython3",
   "version": "3.6.3"
  }
 },
 "nbformat": 4,
 "nbformat_minor": 2
}
